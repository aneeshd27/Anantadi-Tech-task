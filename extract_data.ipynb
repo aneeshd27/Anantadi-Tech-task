{
 "cells": [
  {
   "cell_type": "markdown",
   "metadata": {},
   "source": [
    "# Imports"
   ]
  },
  {
   "cell_type": "code",
   "execution_count": 1,
   "metadata": {},
   "outputs": [],
   "source": [
    "import csv\n",
    "import os\n",
    "from utils import get_id_list, get_data, write_file\n",
    "import json \n",
    "\n",
    "from dotenv import load_dotenv\n",
    "load_dotenv()\n",
    "\n",
    "with open('./config.json') as f:\n",
    "    config = json.load(f)"
   ]
  },
  {
   "cell_type": "markdown",
   "metadata": {},
   "source": [
    "# Grabbing All Movie IDs"
   ]
  },
  {
   "cell_type": "code",
   "execution_count": 2,
   "metadata": {},
   "outputs": [],
   "source": [
    "TMBD_API_KEY = os.getenv('TMBD_API_KEY')\n",
    "\n",
    "YEARS = range(config[\"years\"][0], config[\"years\"][-1]+1)\n",
    "CSV_HEADER = ['Title', 'Runtime (minutes)', 'Language', 'Overview',\n",
    "              'Release Year', 'Genre', 'Keywords',\n",
    "              'Actors', 'Directors', 'Stream', 'Buy', 'Rent', \n",
    "              'Production Companies']"
   ]
  },
  {
   "cell_type": "markdown",
   "metadata": {},
   "source": [
    "# Writing all IDs to CSV file"
   ]
  },
  {
   "cell_type": "code",
   "execution_count": 3,
   "metadata": {},
   "outputs": [
    {
     "name": "stdout",
     "output_type": "stream",
     "text": [
      "{'status_code': 7, 'status_message': 'Invalid API key: You must be granted a valid key.', 'success': False}\n"
     ]
    },
    {
     "ename": "KeyError",
     "evalue": "'results'",
     "output_type": "error",
     "traceback": [
      "\u001b[0;31m---------------------------------------------------------------------------\u001b[0m",
      "\u001b[0;31mKeyError\u001b[0m                                  Traceback (most recent call last)",
      "Cell \u001b[0;32mIn[3], line 3\u001b[0m\n\u001b[1;32m      1\u001b[0m \u001b[38;5;28;01mfor\u001b[39;00m year \u001b[38;5;129;01min\u001b[39;00m YEARS:\n\u001b[1;32m      2\u001b[0m     \u001b[38;5;66;03m# Grab list of ids for all films made in {YEAR}\u001b[39;00m\n\u001b[0;32m----> 3\u001b[0m     movie_list \u001b[38;5;241m=\u001b[39m \u001b[38;5;28mlist\u001b[39m(\u001b[38;5;28mset\u001b[39m(\u001b[43mget_id_list\u001b[49m\u001b[43m(\u001b[49m\u001b[43mTMBD_API_KEY\u001b[49m\u001b[43m,\u001b[49m\u001b[43m \u001b[49m\u001b[43myear\u001b[49m\u001b[43m)\u001b[49m))\n\u001b[1;32m      5\u001b[0m     FILE_NAME \u001b[38;5;241m=\u001b[39m \u001b[38;5;124mf\u001b[39m\u001b[38;5;124m'\u001b[39m\u001b[38;5;124m./data/\u001b[39m\u001b[38;5;132;01m{\u001b[39;00myear\u001b[38;5;132;01m}\u001b[39;00m\u001b[38;5;124m_movie_collection_data.csv\u001b[39m\u001b[38;5;124m'\u001b[39m\n\u001b[1;32m      7\u001b[0m     \u001b[38;5;66;03m# Creating file\u001b[39;00m\n",
      "File \u001b[0;32m~/Developer/FilmSearchOpen/utils.py:39\u001b[0m, in \u001b[0;36mget_id_list\u001b[0;34m(api_key, year, max_retries)\u001b[0m\n\u001b[1;32m     37\u001b[0m \u001b[38;5;28mdict\u001b[39m \u001b[38;5;241m=\u001b[39m response\u001b[38;5;241m.\u001b[39mjson()\n\u001b[1;32m     38\u001b[0m \u001b[38;5;28mprint\u001b[39m(\u001b[38;5;28mdict\u001b[39m)\n\u001b[0;32m---> 39\u001b[0m \u001b[38;5;28;01mfor\u001b[39;00m film \u001b[38;5;129;01min\u001b[39;00m \u001b[38;5;28;43mdict\u001b[39;49m\u001b[43m[\u001b[49m\u001b[38;5;124;43m'\u001b[39;49m\u001b[38;5;124;43mresults\u001b[39;49m\u001b[38;5;124;43m'\u001b[39;49m\u001b[43m]\u001b[49m:\n\u001b[1;32m     40\u001b[0m     movie_ids\u001b[38;5;241m.\u001b[39mappend(\u001b[38;5;28mstr\u001b[39m(film[\u001b[38;5;124m'\u001b[39m\u001b[38;5;124mid\u001b[39m\u001b[38;5;124m'\u001b[39m]))\n\u001b[1;32m     41\u001b[0m \u001b[38;5;28;01mbreak\u001b[39;00m\n",
      "\u001b[0;31mKeyError\u001b[0m: 'results'"
     ]
    }
   ],
   "source": [
    "for year in YEARS:\n",
    "    # Grab list of ids for all films made in {YEAR}\n",
    "    movie_list = list(set(get_id_list(TMBD_API_KEY, year)))\n",
    "\n",
    "    FILE_NAME = f'./data/{year}_movie_collection_data.csv'\n",
    "\n",
    "    # Creating file\n",
    "    with open(FILE_NAME, 'w') as f:\n",
    "        writer = csv.writer(f)\n",
    "        writer.writerow(CSV_HEADER)\n",
    "\n",
    "    # Iterate through list of ids to get data\n",
    "    for id in movie_list:\n",
    "        dict = get_data(TMBD_API_KEY, id)\n",
    "        write_file(FILE_NAME, dict)"
   ]
  },
  {
   "cell_type": "markdown",
   "metadata": {},
   "source": [
    "# Random Testing"
   ]
  },
  {
   "cell_type": "code",
   "execution_count": 7,
   "metadata": {},
   "outputs": [
    {
     "name": "stdout",
     "output_type": "stream",
     "text": [
      "2022\n",
      "mother, martial arts, kung fu, philosophy, generations conflict, chinese woman, laundromat, chinese, east asian lead, divorce, family, hot dog, asian woman, chinese immigrant, mother daughter relationship, asian american, intergenerational trauma, internal revenue service\n",
      "Actors: James Hong, Michelle Yeoh, Ke Huy Quan, Stephanie Hsu, Jamie Lee Curtis\n",
      "Director: Daniel Kwan, Daniel Scheinert\n",
      "A24, IAC Films, AGBO, Ley Line Entertainment, TPC, Year of the Rat\n"
     ]
    }
   ],
   "source": [
    "import requests\n",
    "import time\n",
    "import json\n",
    "from iso639 import languages\n",
    "\n",
    "max_retries = 5\n",
    "\n",
    "# Test the function\n",
    "Movie_ID = '545611'\n",
    "# Create empty index\n",
    "API_key = os.getenv('TMBD_API_KEY')\n",
    "query = 'https://api.themoviedb.org/3/movie/' + Movie_ID + \\\n",
    "    '?api_key='+API_key +'&append_to_response=keywords,' + \\\n",
    "        'watch/providers,credits&language=en-US'\n",
    "\n",
    "response = requests.get(query)\n",
    "for i in range(max_retries):\n",
    "    if response.status_code == 429:\n",
    "        # If the response was a 429, wait and then try again\n",
    "        print(\n",
    "            f\"Request limit reached. Waiting and retrying ({i+1}/{\n",
    "                max_retries})\")\n",
    "        time.sleep(2 ** i)  # Exponential backoff\n",
    "    else:\n",
    "        dict = response.json()\n",
    "\n",
    "# Pretty print the JSON data\n",
    "pretty_json = json.dumps(dict, indent=4)\n",
    "\n",
    "# print(pretty_json)\n",
    "\n",
    "def is_english(s):\n",
    "    try:\n",
    "        s.encode(encoding='utf-8').decode('ascii')\n",
    "    except UnicodeDecodeError:\n",
    "        return False\n",
    "    else:\n",
    "        return True\n",
    "\n",
    "title = dict['title']\n",
    "runtime = str(dict['runtime']) + \" minutes\"\n",
    "language_code = dict['original_language']\n",
    "release_date = dict['release_date']\n",
    "overview = dict['overview']\n",
    "all_genres = dict['genres']\n",
    "website = 'movie_collection_data.csv' if dict['homepage'] == '' else dict['homepage']\n",
    "prod_companies = dict['production_companies']\n",
    "\n",
    "# Parsing release date\n",
    "release_year = release_date.split('-')[0]\n",
    "\n",
    "# Converting language\n",
    "if language_code != 'xx':\n",
    "    language = languages.get(alpha2=language_code).name\n",
    "else:\n",
    "    language = 'Unknown'\n",
    "\n",
    "# Parsing genres\n",
    "genre_str = \"\"\n",
    "for genre in all_genres:\n",
    "    genre_str += genre['name'] + \", \"\n",
    "genre_str = genre_str[:-2]\n",
    "\n",
    "# Parsing keywords\n",
    "all_keywords = dict['keywords']['keywords']\n",
    "keyword_str = \"\"\n",
    "for keyword in all_keywords:\n",
    "    if is_english(keyword['name']):\n",
    "        keyword_str += keyword['name'] + \", \"\n",
    "if keyword_str == \"\":\n",
    "    keyword_str = \"None\" \n",
    "else:\n",
    "    keyword_str = keyword_str[:-2]\n",
    "print(keyword_str)\n",
    "\n",
    "# Parsing watch providers\n",
    "watch_providers = dict['watch/providers']['results']\n",
    "stream_str, buy_str, rent_str = \"\", \"\", \"\"\n",
    "if 'US' in watch_providers:\n",
    "    watch_providers = watch_providers['US']\n",
    "    provider_strings = ['flatrate', 'buy', 'rent']\n",
    "    for string in provider_strings:\n",
    "        if string not in watch_providers:\n",
    "            continue\n",
    "\n",
    "        _str = \"\"\n",
    "\n",
    "        for element in watch_providers[string]:\n",
    "            _str += element['provider_name'] + \", \"\n",
    "        _str = _str[:-2] + \" \"\n",
    "\n",
    "        if string == 'flatrate':\n",
    "            stream_str += _str\n",
    "        elif string == 'buy':\n",
    "            buy_str += _str\n",
    "        else:\n",
    "            rent_str += _str\n",
    "\n",
    "\n",
    "credits = dict['credits']\n",
    "actor_list, director_list = [], []\n",
    "\n",
    "# Parsing cast\n",
    "cast = credits['cast']\n",
    "NUM_ACTORS = 5\n",
    "for member in cast[:NUM_ACTORS]:\n",
    "    actor_list.append(member[\"name\"])\n",
    "\n",
    "# Parsing crew\n",
    "crew = credits['crew']\n",
    "for member in crew:\n",
    "    if member['job'] == 'Director':\n",
    "        director_list.append(member[\"name\"])\n",
    "\n",
    "actor_str = ', '.join(list(set(actor_list)))\n",
    "director_str = ', '.join(list(set(director_list)))\n",
    "\n",
    "print(f\"Actors: {actor_str}\")\n",
    "print(f\"Director: {director_str}\")\n",
    "\n",
    "# Parsing production companies\n",
    "prod_str = \"\"\n",
    "for company in prod_companies:\n",
    "    prod_str += company['name'] + \", \"\n",
    "prod_str = prod_str[:-2]\n",
    "print(prod_str)"
   ]
  },
  {
   "cell_type": "code",
   "execution_count": null,
   "metadata": {},
   "outputs": [],
   "source": []
  },
  {
   "cell_type": "code",
   "execution_count": null,
   "metadata": {},
   "outputs": [],
   "source": []
  }
 ],
 "metadata": {
  "kernelspec": {
   "display_name": "FilmBot",
   "language": "python",
   "name": "python3"
  },
  "language_info": {
   "codemirror_mode": {
    "name": "ipython",
    "version": 3
   },
   "file_extension": ".py",
   "mimetype": "text/x-python",
   "name": "python",
   "nbconvert_exporter": "python",
   "pygments_lexer": "ipython3",
   "version": "3.12.2"
  }
 },
 "nbformat": 4,
 "nbformat_minor": 2
}
