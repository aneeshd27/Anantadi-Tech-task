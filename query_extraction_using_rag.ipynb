{
 "cells": [
  {
   "cell_type": "markdown",
   "metadata": {},
   "source": [
    "# Imports"
   ]
  },
  {
   "cell_type": "code",
   "execution_count": 133,
   "metadata": {},
   "outputs": [
    {
     "data": {
      "text/plain": [
       "True"
      ]
     },
     "execution_count": 133,
     "metadata": {},
     "output_type": "execute_result"
    }
   ],
   "source": [
    "# Pinecone\n",
    "from pinecone import Pinecone, PodSpec\n",
    "\n",
    "# Langchain\n",
    "from langchain_community.document_loaders import DirectoryLoader\n",
    "from langchain_community.document_loaders.csv_loader import CSVLoader\n",
    "from langchain.chains.query_constructor.base import (\n",
    "    StructuredQueryOutputParser,\n",
    "    get_query_constructor_prompt,\n",
    "    AttributeInfo\n",
    ")\n",
    "from langchain.retrievers.self_query.base import SelfQueryRetriever\n",
    "from langchain.retrievers.self_query.pinecone import PineconeTranslator\n",
    "from langchain_openai import (\n",
    "    ChatOpenAI, \n",
    "    OpenAIEmbeddings\n",
    ")\n",
    "from langchain_pinecone import PineconeVectorStore\n",
    "from langchain.indexes import SQLRecordManager, index\n",
    "from langchain_core.prompts import ChatPromptTemplate\n",
    "from langchain_core.runnables import RunnableParallel, RunnablePassthrough\n",
    "from langchain_core.output_parsers import StrOutputParser\n",
    "\n",
    "# General\n",
    "import os\n",
    "from dotenv import load_dotenv\n",
    "load_dotenv()"
   ]
  },
  {
   "cell_type": "markdown",
   "metadata": {},
   "source": [
    "# Convert CSV files to Docs"
   ]
  },
  {
   "cell_type": "code",
   "execution_count": 120,
   "metadata": {},
   "outputs": [
    {
     "name": "stderr",
     "output_type": "stream",
     "text": [
      "100%|██████████| 104/104 [00:00<00:00, 174.54it/s]\n"
     ]
    }
   ],
   "source": [
    "# Loading in data from all csv files\n",
    "loader = DirectoryLoader(\n",
    "    path=\"./data\",\n",
    "    glob=\"*.csv\",\n",
    "    loader_cls=CSVLoader,\n",
    "    show_progress=True)\n",
    "\n",
    "docs = loader.load()\n",
    "\n",
    "metadata_field_info = [\n",
    "    AttributeInfo(\n",
    "        name=\"Title\", description=\"The title of the movie\", type=\"string\"),\n",
    "    AttributeInfo(name=\"Runtime (minutes)\",\n",
    "                  description=\"The runtime of the movie in minutes\", type=\"integer\"),\n",
    "    AttributeInfo(name=\"Language\",\n",
    "                  description=\"The language of the movie\", type=\"string\"),\n",
    "    AttributeInfo(name=\"Release Year\",\n",
    "                  description=\"The release year of the movie as an integer\", type=\"integer\"),\n",
    "    AttributeInfo(name=\"Genre\", description=\"The genre of the movie\",\n",
    "                  type=\"string or list[string]\"),\n",
    "    AttributeInfo(name=\"Actors\", description=\"The actors in the movie\",\n",
    "                  type=\"string or list[string]\"),\n",
    "    AttributeInfo(name=\"Directors\", description=\"The directors of the movie\",\n",
    "                  type=\"string or list[string]\"),\n",
    "    AttributeInfo(name=\"Stream\", description=\"The streaming platforms for the movie\",\n",
    "                  type=\"string or list[string]\"),\n",
    "    AttributeInfo(name=\"Buy\", description=\"The platforms where the movie can be bought\",\n",
    "                  type=\"string or list[string]\"),\n",
    "    AttributeInfo(name=\"Rent\", description=\"The platforms where the movie can be rented\",\n",
    "                  type=\"string or list[string]\"),\n",
    "    AttributeInfo(name=\"Production Companies\",\n",
    "                  description=\"The production companies of the movie\", type=\"string or list[string]\"),\n",
    "]\n",
    "\n",
    "def convert_to_list(doc, field):\n",
    "    if field in doc.metadata and doc.metadata[field] is not None:\n",
    "        doc.metadata[field] = [item.strip()\n",
    "                               for item in doc.metadata[field].split(',')]\n",
    "        \n",
    "def convert_to_int(doc, field):\n",
    "    if field in doc.metadata and doc.metadata[field] is not None:\n",
    "        doc.metadata[field] = int(\n",
    "            doc.metadata[field])\n",
    "\n",
    "fields_to_convert_list = ['Genre', 'Actors', 'Directors',\n",
    "                          'Production Companies', 'Stream', 'Buy', 'Rent']\n",
    "fields_to_convert_int = ['Runtime (minutes)', 'Release Year']\n",
    "\n",
    "# Set 'overview' and 'keywords' as 'page_content' and other fields as 'metadata'\n",
    "for doc in docs:\n",
    "    # Parse the page_content string into a dictionary\n",
    "    page_content_dict = dict(line.split(\": \", 1)\n",
    "                             for line in doc.page_content.split(\"\\n\") if \": \" in line)\n",
    "    \n",
    "    doc.page_content = 'Overview: ' + page_content_dict.get(\n",
    "        'Overview') + '. Keywords: ' + page_content_dict.get('Keywords')\n",
    "    doc.metadata = {field.name: page_content_dict.get(\n",
    "        field.name) for field in metadata_field_info}\n",
    "        \n",
    "    # Convert fields from string to list of strings\n",
    "    for field in fields_to_convert_list:\n",
    "        convert_to_list(doc, field)      \n",
    "\n",
    "    # Convert fields from string to integers\n",
    "    for field in fields_to_convert_int:\n",
    "        convert_to_int(doc, field)"
   ]
  },
  {
   "cell_type": "code",
   "execution_count": 121,
   "metadata": {},
   "outputs": [
    {
     "name": "stdout",
     "output_type": "stream",
     "text": [
      "page_content='Overview: For a book project, photographer Timothy Greenfield-Sanders took photographs of 30 stars of adult movies, each pair of photographs in the same pose, clothed and nude. This film records the photo shoots and includes interviews with the performers and commentary from eight writers (and John Waters). The actors and writers discuss economics, nudity and exhibitionism, careers, and private lives.. Keywords: pornography, interview, photo shoot, voyeur' metadata={'Title': 'Thinking XXX', 'Runtime (minutes)': 58, 'Language': 'English', 'Release Year': 2004, 'Genre': ['Documentary'], 'Actors': ['Tera Patrick', 'Sunrise Adams', 'Jenna Jameson', 'Ron Jeremy', 'Belladonna'], 'Directors': ['Timothy Greenfield-Sanders'], 'Stream': [''], 'Buy': [''], 'Rent': [''], 'Production Companies': ['Perfect Day Films'], 'Website': 'Unknown'}\n"
     ]
    }
   ],
   "source": [
    "print(docs[5])"
   ]
  },
  {
   "cell_type": "markdown",
   "metadata": {},
   "source": [
    "# Create Pinecone Index and Upload Docs"
   ]
  },
  {
   "cell_type": "code",
   "execution_count": 122,
   "metadata": {},
   "outputs": [
    {
     "name": "stdout",
     "output_type": "stream",
     "text": [
      "{'dimension': 1536,\n",
      " 'index_fullness': 0.04021,\n",
      " 'namespaces': {'': {'vector_count': 4021}},\n",
      " 'total_vector_count': 4021}\n"
     ]
    }
   ],
   "source": [
    "# Create empty index\n",
    "PINECONE_KEY, PINECONE_INDEX_NAME = os.getenv(\n",
    "    'PINECONE_API_KEY'), os.getenv('PINECONE_INDEX_NAME')\n",
    "\n",
    "pc = Pinecone(api_key=PINECONE_KEY)\n",
    "\n",
    "# Uncomment if index is not created already\n",
    "# pc.create_index(\n",
    "#     name=PINECONE_INDEX_NAME,\n",
    "#     dimension=1536,\n",
    "#     metric=\"cosine\",\n",
    "#     spec=PodSpec(\n",
    "#         environment=\"gcp-starter\"\n",
    "#     )\n",
    "# )\n",
    "\n",
    "# Target index and check status\n",
    "pc_index = pc.Index(PINECONE_INDEX_NAME)\n",
    "print(pc_index.describe_index_stats())\n",
    "\n",
    "embeddings = OpenAIEmbeddings(model='text-embedding-ada-002')\n",
    "\n",
    "vectorstore = PineconeVectorStore(\n",
    "    pc_index, embeddings\n",
    ")\n",
    "\n",
    "# Create record manager\n",
    "namespace = f\"pinecone/{PINECONE_INDEX_NAME}\"\n",
    "record_manager = SQLRecordManager(\n",
    "    namespace, db_url=\"sqlite:///record_manager_cache.sql\"\n",
    ")\n",
    "\n",
    "record_manager.create_schema()"
   ]
  },
  {
   "cell_type": "code",
   "execution_count": 123,
   "metadata": {},
   "outputs": [
    {
     "data": {
      "text/plain": [
       "{'num_added': 9622, 'num_updated': 0, 'num_skipped': 0, 'num_deleted': 0}"
      ]
     },
     "execution_count": 123,
     "metadata": {},
     "output_type": "execute_result"
    }
   ],
   "source": [
    "def _clear():\n",
    "    \"\"\"\n",
    "    Hacky helper method to clear content.\n",
    "    \"\"\"\n",
    "    index([], record_manager, vectorstore,\n",
    "          cleanup=\"full\", source_id_key=\"Website\")\n",
    "\n",
    "# Uncomment this line if you want to clear the Pinecone vectorstore\n",
    "_clear()\n",
    "\n",
    "# Upload documents to pinecome\n",
    "index(docs, record_manager, vectorstore,\n",
    "      cleanup=\"full\", source_id_key=\"Website\")"
   ]
  },
  {
   "cell_type": "markdown",
   "metadata": {},
   "source": [
    "# Creating Self-Querying Retriever"
   ]
  },
  {
   "cell_type": "code",
   "execution_count": 124,
   "metadata": {},
   "outputs": [],
   "source": [
    "document_content_description = \"Brief overview of a movie, along with keywords\"\n",
    "\n",
    "# Define allowed comparators list\n",
    "allowed_comparators = [\n",
    "    \"$eq\",  # Equal to (number, string, boolean)\n",
    "    \"$ne\",  # Not equal to (number, string, boolean)\n",
    "    \"$gt\",  # Greater than (number)\n",
    "    \"$gte\",  # Greater than or equal to (number)\n",
    "    \"$lt\",  # Less than (number)\n",
    "    \"$lte\",  # Less than or equal to (number)\n",
    "    \"$in\",  # In array (string or number)\n",
    "    \"$nin\",  # Not in array (string or number)\n",
    "]\n",
    "\n",
    "examples = [\n",
    "    (\n",
    "        \"I'm looking for a sci-fi comedy released after 2021.\",\n",
    "        {\n",
    "            \"query\": \"sci-fi comedy\",\n",
    "            \"filter\": \"and(eq('Genre', 'Science'), eq('Genre', 'Comedy'), gt('Release Year', 2021))\",\n",
    "        },\n",
    "    ),\n",
    "    (\n",
    "        \"Show me critically acclaimed dramas without Tom Hanks.\",\n",
    "        {\n",
    "            \"query\": \"critically acclaimed drama\",\n",
    "            \"filter\": \"and(eq('Genre', 'Drama'), nin('Actors', ['Tom Hanks']))\",\n",
    "        },\n",
    "    ),\n",
    "    (\n",
    "        \"Recommend some films by Yorgos Lanthimos.\",\n",
    "        {\n",
    "            \"query\": \"Yorgos Lanthimos\",\n",
    "            \"filter\": 'in(\"Directors\", [\"Yorgos Lanthimos]\")',\n",
    "        },\n",
    "    ),\n",
    "    (\n",
    "        \"Films similar to Yorgos Lanthmios movies.\",\n",
    "        {\n",
    "            \"query\": \"Dark comedy, absurd, Greek Weird Wave\",\n",
    "            \"filter\": 'NO_FILTER',\n",
    "        },\n",
    "    ),\n",
    "    (\n",
    "        \"Find me thrillers with a strong female lead released between 2015 and 2020.\",\n",
    "        {\n",
    "            \"query\": \"thriller strong female lead\",\n",
    "            \"filter\": \"and(eq('Genre', 'Thriller'), gt('Release Year', 2015), lt('Release Year', 2021))\",\n",
    "        },\n",
    "    ),\n",
    "    (\n",
    "        \"Find me highly rated drama movies in English that are less than 2 hours long\",\n",
    "        {\n",
    "            \"query\": \"Highly rated drama English under 2 hours\",\n",
    "            \"filter\": 'and(eq(\"Genre\", \"Drama\"), eq(\"Language\", \"English\"), lt(\"Runtime (minutes)\", 120))',\n",
    "        },\n",
    "    ),\n",
    "]\n",
    "\n",
    "constructor_prompt = get_query_constructor_prompt(\n",
    "    document_content_description,\n",
    "    metadata_field_info,\n",
    "    allowed_comparators=allowed_comparators,\n",
    "    examples=examples,\n",
    ")\n",
    "\n",
    "query_model = ChatOpenAI(\n",
    "    # model='gpt-3.5-turbo-0125',\n",
    "    model='gpt-4-0125-preview',\n",
    "    temperature=0,\n",
    "    streaming=True,\n",
    ")\n",
    "\n",
    "output_parser = StructuredQueryOutputParser.from_components()\n",
    "query_constructor = constructor_prompt | query_model | output_parser"
   ]
  },
  {
   "cell_type": "code",
   "execution_count": 130,
   "metadata": {},
   "outputs": [],
   "source": [
    "question = \"Comedy films\"\n",
    "# question = \"Find me thrillers with a strong female lead released between 2015 and 2020.\"\n",
    "# print(constructor_prompt.format(query=question))\n",
    "# print(type(constructor_prompt))"
   ]
  },
  {
   "cell_type": "code",
   "execution_count": 131,
   "metadata": {},
   "outputs": [
    {
     "data": {
      "text/plain": [
       "StructuredQuery(query='Comedy', filter=Comparison(comparator=<Comparator.EQ: 'eq'>, attribute='Genre', value='Comedy'), limit=None)"
      ]
     },
     "execution_count": 131,
     "metadata": {},
     "output_type": "execute_result"
    }
   ],
   "source": [
    "query_constructor.invoke(\n",
    "    {\n",
    "        \"query\": question\n",
    "    }\n",
    ")"
   ]
  },
  {
   "cell_type": "code",
   "execution_count": 132,
   "metadata": {},
   "outputs": [
    {
     "data": {
      "text/plain": [
       "[Document(page_content='Overview: Silent comedy about a poor country bumpkin who goes to Hollywood to make good.. Keywords: big city, motion pictures, country bumpkin, short film', metadata={'Actors': ['Marcella Daly', 'Frank Jonasson', 'Arthur Thalasso', 'Glen Cavender', 'Lloyd Hamilton'], 'Buy': [''], 'Directors': ['Roscoe Arbuckle'], 'Genre': ['Comedy'], 'Language': 'English', 'Production Companies': ['Lloyd Hamilton Corporation'], 'Release Year': 1925.0, 'Rent': [''], 'Runtime (minutes)': 19.0, 'Stream': [''], 'Title': 'The Movies', 'Website': 'Unknown'}),\n",
       " Document(page_content='Overview: A series of loosely connected skits that spoof news programs, commercials, porno films, kung-fu films, disaster films, blaxploitation films, spy films, mafia films, and the fear that somebody is watching you on the other side of the TV.. Keywords: commercial, journalism, manipulation of the media, satire, tv ratings, television producer, sketch comedy', metadata={'Actors': ['Bong Soo Han', 'Saul Kahan', 'Marcy Goldman', 'Evan C. Kim', 'Marilyn Joi'], 'Buy': ['Apple TV', 'Google Play Movies', 'YouTube', 'Vudu', 'Microsoft Store'], 'Directors': ['John Landis'], 'Genre': ['Comedy'], 'Language': 'English', 'Production Companies': ['United Film Distribution Company (UFDC)', 'Kentucky Fried Theatre'], 'Release Year': 1977.0, 'Rent': ['Apple TV', 'Google Play Movies', 'YouTube', 'Vudu', 'Microsoft Store'], 'Runtime (minutes)': 83.0, 'Stream': ['Amazon Prime Video', 'Night Flight Plus'], 'Title': 'The Kentucky Fried Movie', 'Website': 'Unknown'}),\n",
       " Document(page_content='Overview: Acclaimed director John Landis (Animal House, The Blues Brothers) presents this madcap send-up of late night TV, low-budget sci-fi films and canned-laughter-filled sitcoms packed with off-the-wall sketches that will have you in stitches. Centered around a television station which features a 1950s-style sci-fi movie interspersed with a series of wild commercials, wacky shorts and weird specials, this lampoon of contemporary life and pop culture skewers some of the silliest spectacles ever created in the name of entertainment. A truly outrageous look at the best of the worst that television has to offer.. Keywords: tv addicted person, anthology, spoof, campy, anarchic comedy', metadata={'Actors': ['Griffin Dunne', 'Peter Horton', 'Monique Gabrielle', 'Michelle Pfeiffer', 'Steve Forrest'], 'Buy': [''], 'Directors': ['Robert K. Weiss', 'John Landis', 'Carl Gottlieb', 'Peter Horton', 'Joe Dante'], 'Genre': ['Comedy', 'Science Fiction'], 'Language': 'English', 'Production Companies': ['Universal Pictures', 'Westward Productions'], 'Release Year': 1987.0, 'Rent': [''], 'Runtime (minutes)': 85.0, 'Stream': [''], 'Title': 'Amazon Women on the Moon', 'Website': 'Unknown'}),\n",
       " Document(page_content='Overview: A young man faces perilous adventures when he is evicted from his apartment.. Keywords: slapstick comedy', metadata={'Actors': ['Lupino Lane', 'Jack Lloyd', 'Virginia Vance', 'George Davis', 'Glen Cavender'], 'Buy': [''], 'Directors': ['Roscoe Arbuckle'], 'Genre': ['Comedy'], 'Language': 'English', 'Production Companies': ['Lupino Lane Comedy Corporation'], 'Release Year': 1926.0, 'Rent': [''], 'Runtime (minutes)': 15.0, 'Stream': [''], 'Title': \"Fool's Luck\", 'Website': 'Unknown'}),\n",
       " Document(page_content='Overview: This sprawling, surrealist comedy serves as an allegory for the pitfalls of capitalism, as it follows the adventures of a young coffee salesman in modern Britain.. Keywords: dark comedy, surreal, coffee, ambition, film in film, traveling salesman, music rehearsal, blackface, sex show, breast milk, film director, greek chorus', metadata={'Actors': ['Rachel Roberts', 'Malcolm McDowell', 'Ralph Richardson', 'Arthur Lowe', 'Helen Mirren'], 'Buy': ['Apple TV', 'Amazon Video', 'Google Play Movies', 'YouTube', 'Vudu'], 'Directors': ['Lindsay Anderson'], 'Genre': ['Comedy'], 'Language': 'English', 'Production Companies': ['Memorial Enterprises', 'S.A.M. Productions'], 'Release Year': 1973.0, 'Rent': ['Apple TV', 'Amazon Video', 'Google Play Movies', 'YouTube', 'Vudu'], 'Runtime (minutes)': 178.0, 'Stream': [''], 'Title': 'O Lucky Man!', 'Website': 'Unknown'}),\n",
       " Document(page_content='Overview: Jackie prepares a series of elaborate jokes for his new teacher.. Keywords: short film', metadata={'Actors': ['Dorothy DeBorba', \"Allen 'Farina' Hoskins\", 'Jackie Cooper', 'Matthew Beard', 'Norman Chaney'], 'Buy': [''], 'Directors': ['Robert F. McGowan'], 'Genre': ['Family', 'Comedy'], 'Language': 'English', 'Production Companies': ['Hal Roach Studios'], 'Release Year': 1930.0, 'Rent': [''], 'Runtime (minutes)': 20.0, 'Stream': [''], 'Title': \"Teacher's Pet\", 'Website': 'Unknown'}),\n",
       " Document(page_content='Overview: Comic adventures of newlyweds and children.. Keywords: just married, silent film, newlywed', metadata={'Actors': ['Jack Edwards', 'Harold Lloyd', 'Noah Young', 'Jack Morgan', 'Mildred Davis'], 'Buy': [''], 'Directors': ['Hal Roach'], 'Genre': ['Comedy'], 'Language': 'English', 'Production Companies': ['Rolin Films'], 'Release Year': 1921.0, 'Rent': [''], 'Runtime (minutes)': 25.0, 'Stream': [''], 'Title': 'I Do', 'Website': 'Unknown'}),\n",
       " Document(page_content=\"Overview: Aspiring filmmakers Mel Funn, Marty Eggs and Dom Bell go to a financially troubled studio with an idea for a silent movie. In an effort to make the movie more marketable, they attempt to recruit a number of big name stars to appear, while the studio's creditors attempt to thwart them.. Keywords: screenplay, stuntman, slapstick comedy, mime, hollywood, silent film\", metadata={'Actors': ['Sid Caesar', 'Mel Brooks', 'Harold Gould', 'Dom DeLuise', 'Marty Feldman'], 'Buy': [''], 'Directors': ['Mel Brooks'], 'Genre': ['Comedy'], 'Language': 'English', 'Production Companies': ['Crossbow Productions', '20th Century Fox'], 'Release Year': 1976.0, 'Rent': [''], 'Runtime (minutes)': 87.0, 'Stream': [''], 'Title': 'Silent Movie', 'Website': 'Unknown'}),\n",
       " Document(page_content='Overview: The comic adventures of a new car owner.. Keywords: silent film, new car', metadata={'Actors': ['Harold Lloyd', 'William Gillespie', 'Fred McPherson', 'Mildred Davis', 'Charles Stevenson'], 'Buy': [''], 'Directors': ['Hal Roach'], 'Genre': ['Comedy'], 'Language': 'English', 'Production Companies': ['Rolin Films'], 'Release Year': 1920.0, 'Rent': [''], 'Runtime (minutes)': 25.0, 'Stream': ['Criterion Channel'], 'Title': 'Get Out and Get Under', 'Website': 'Unknown'}),\n",
       " Document(page_content='Overview: Spoof of romantic comedies which focuses on a man, his crush, his parents, and her father.. Keywords: date, diary, parents-in-law, bridegroom, parody, crude humor, spoof, wedding', metadata={'Actors': ['Alyson Hannigan', 'Fred Willard', 'Sophie Monk', 'Jennifer Coolidge', 'Eddie Griffin'], 'Buy': ['Apple TV', 'Amazon Video', 'Google Play Movies', 'YouTube', 'Microsoft Store'], 'Directors': ['Aaron Seltzer'], 'Genre': ['Comedy', 'Romance'], 'Language': 'English', 'Production Companies': ['Regency Enterprises', 'New Regency Pictures', 'Epsilon Motion Pictures'], 'Release Year': 2006.0, 'Rent': ['Apple TV', 'Amazon Video', 'Google Play Movies', 'YouTube', 'Microsoft Store'], 'Runtime (minutes)': 83.0, 'Stream': ['Hulu'], 'Title': 'Date Movie', 'Website': 'Unknown'})]"
      ]
     },
     "execution_count": 132,
     "metadata": {},
     "output_type": "execute_result"
    }
   ],
   "source": [
    "retriever = SelfQueryRetriever(\n",
    "    query_constructor=query_constructor,\n",
    "    vectorstore=vectorstore,\n",
    "    structured_query_translator=PineconeTranslator(),\n",
    "    search_kwargs={'k': 10}\n",
    ")\n",
    "\n",
    "retriever.invoke(question)"
   ]
  },
  {
   "cell_type": "markdown",
   "metadata": {},
   "source": [
    "# Create RAG Chain"
   ]
  },
  {
   "cell_type": "code",
   "execution_count": 128,
   "metadata": {},
   "outputs": [
    {
     "name": "stdout",
     "output_type": "stream",
     "text": [
      "\n",
      "\n",
      "question: Drama films by A24.\n",
      "\n",
      "context: [Document(page_content='Overview: A reclusive English teacher suffering from severe obesity attempts to reconnect with his estranged teenage daughter for one last chance at redemption.. Keywords: regret, nurse, missionary, idaho, bible, redemption, overweight man, addiction, based on play or musical, teacher, grief, neighbor, obesity, religion, death of lover, election, rebellious daughter, guilt, death, lgbt, sister-in-law, eating disorder, father daughter reunion, empathy, shame, english teacher, abandonment, one location, father daughter relationship, 2010s, gay theme, apartment, essay, food addiction, religious symbolism', metadata={'Actors': ['Hong Chau', 'Ty Simpkins', 'Sadie Sink', 'Samantha Morton', 'Brendan Fraser'], 'Buy': ['Apple TV', 'Amazon Video', 'Google Play Movies', 'YouTube', 'Vudu', 'Microsoft Store'], 'Directors': ['Darren Aronofsky'], 'Genre': ['Drama'], 'Language': 'English', 'Production Companies': ['A24', 'Protozoa Pictures'], 'Release Year': 2022.0, 'Rent': ['Apple TV', 'Amazon Video', 'Google Play Movies', 'YouTube', 'Vudu', 'Microsoft Store', 'Spectrum On Demand'], 'Runtime (minutes)': 117.0, 'Stream': ['fuboTV', 'Paramount+ with Showtime', 'Paramount Plus Apple TV Channel', 'Paramount+ Amazon Channel', 'Showtime Roku Premium Channel', 'Hoopla', 'Showtime', 'Showtime Apple TV Channel'], 'Title': 'The Whale', 'Website': 'https://a24films.com/films/the-whale'}), Document(page_content='Overview: The commandant of Auschwitz, Rudolf Höss, and his wife Hedwig, strive to build a dream life for their family in a house and garden next to the camp.. Keywords: husband wife relationship, based on novel or book, nazi, concentration camp, holocaust (shoah), world war ii, auschwitz-birkenau concentration camp, garden, biography, based on true story, nazi officer, genocide, cynical, macabre, shocking, hostile, hopeless, 1940s, commandant, candid, malicious, vindictive, complicity, clinical, negative, critical, egotistical, sinister, depressing, antagonistic, arrogant, authoritarian, callous, distressing, matter of fact, ominous, pessimistic, tragic, urgent', metadata={'Actors': ['Nele Ahrensmeier', 'Luis Noah Witte', 'Johann Karthaus', 'Christian Friedel', 'Sandra Hüller'], 'Buy': ['Apple TV', 'Amazon Video', 'Google Play Movies', 'YouTube', 'Vudu', 'Microsoft Store'], 'Directors': ['Jonathan Glazer'], 'Genre': ['History', 'Drama', 'War'], 'Language': 'English', 'Production Companies': ['A24', 'Film4 Productions', 'Access Entertainment', 'PISF', 'JW Films', 'Extreme Emotions'], 'Release Year': 2023.0, 'Rent': ['Apple TV', 'Amazon Video', 'Google Play Movies', 'YouTube', 'Vudu', 'Spectrum On Demand'], 'Runtime (minutes)': 105.0, 'Stream': [''], 'Title': 'The Zone of Interest', 'Website': 'https://a24films.com/films/the-zone-of-interest'}), Document(page_content='Overview: The true story of the inseparable Von Erich brothers, who made history in the intensely competitive world of professional wrestling in the early 1980s. Through tragedy and triumph, under the shadow of their domineering father and coach, the brothers seek larger-than-life immortality on the biggest stage in sports.. Keywords: suicide, coma, sports, 1970s, texas, wrestling, brotherhood, biography, dallas texas, based on true story, family relationships, grief, tragedy, curse, family, death, mental illness, overbearing father, death of brother, 1980s, toxic masculinity, brothers, wwf, male mental health', metadata={'Actors': ['Stanley Simons', 'Jeremy Allen White', 'Harris Dickinson', 'Zac Efron', 'Holt McCallany'], 'Buy': ['Apple TV', 'Amazon Video', 'Google Play Movies', 'YouTube', 'Vudu', 'Microsoft Store'], 'Directors': ['Sean Durkin'], 'Genre': ['Drama', 'History'], 'Language': 'English', 'Production Companies': ['A24', 'BBC Film', 'Access Entertainment', 'House Productions'], 'Release Year': 2023.0, 'Rent': ['Apple TV', 'Amazon Video', 'Google Play Movies', 'YouTube', 'Vudu', 'Spectrum On Demand'], 'Runtime (minutes)': 132.0, 'Stream': [''], 'Title': 'The Iron Claw', 'Website': 'https://ironclawmovie.com/'})]\n",
      "\n",
      "answer: I recommend the film [The Whale](https://a24films.com/films/the-whale):\n",
      "- Runtime: 117 minutes\n",
      "- Release Year: 2022\n",
      "- \"The Whale\" is a poignant drama that delves into themes of redemption, regret, and family relationships, which align with your interest in drama films. The story of a reclusive English teacher seeking redemption and connection with his daughter may resonate with you based on the keywords provided in your query.\n",
      "\n",
      "I'm sorry, but I couldn't find any other A24 drama films in the context provided. Would you like recommendations for drama films from other production companies or genres?"
     ]
    },
    {
     "data": {
      "text/plain": [
       "{'question': 'Drama films by A24.',\n",
       " 'context': [Document(page_content='Overview: A reclusive English teacher suffering from severe obesity attempts to reconnect with his estranged teenage daughter for one last chance at redemption.. Keywords: regret, nurse, missionary, idaho, bible, redemption, overweight man, addiction, based on play or musical, teacher, grief, neighbor, obesity, religion, death of lover, election, rebellious daughter, guilt, death, lgbt, sister-in-law, eating disorder, father daughter reunion, empathy, shame, english teacher, abandonment, one location, father daughter relationship, 2010s, gay theme, apartment, essay, food addiction, religious symbolism', metadata={'Actors': ['Hong Chau', 'Ty Simpkins', 'Sadie Sink', 'Samantha Morton', 'Brendan Fraser'], 'Buy': ['Apple TV', 'Amazon Video', 'Google Play Movies', 'YouTube', 'Vudu', 'Microsoft Store'], 'Directors': ['Darren Aronofsky'], 'Genre': ['Drama'], 'Language': 'English', 'Production Companies': ['A24', 'Protozoa Pictures'], 'Release Year': 2022.0, 'Rent': ['Apple TV', 'Amazon Video', 'Google Play Movies', 'YouTube', 'Vudu', 'Microsoft Store', 'Spectrum On Demand'], 'Runtime (minutes)': 117.0, 'Stream': ['fuboTV', 'Paramount+ with Showtime', 'Paramount Plus Apple TV Channel', 'Paramount+ Amazon Channel', 'Showtime Roku Premium Channel', 'Hoopla', 'Showtime', 'Showtime Apple TV Channel'], 'Title': 'The Whale', 'Website': 'https://a24films.com/films/the-whale'}),\n",
       "  Document(page_content='Overview: The commandant of Auschwitz, Rudolf Höss, and his wife Hedwig, strive to build a dream life for their family in a house and garden next to the camp.. Keywords: husband wife relationship, based on novel or book, nazi, concentration camp, holocaust (shoah), world war ii, auschwitz-birkenau concentration camp, garden, biography, based on true story, nazi officer, genocide, cynical, macabre, shocking, hostile, hopeless, 1940s, commandant, candid, malicious, vindictive, complicity, clinical, negative, critical, egotistical, sinister, depressing, antagonistic, arrogant, authoritarian, callous, distressing, matter of fact, ominous, pessimistic, tragic, urgent', metadata={'Actors': ['Nele Ahrensmeier', 'Luis Noah Witte', 'Johann Karthaus', 'Christian Friedel', 'Sandra Hüller'], 'Buy': ['Apple TV', 'Amazon Video', 'Google Play Movies', 'YouTube', 'Vudu', 'Microsoft Store'], 'Directors': ['Jonathan Glazer'], 'Genre': ['History', 'Drama', 'War'], 'Language': 'English', 'Production Companies': ['A24', 'Film4 Productions', 'Access Entertainment', 'PISF', 'JW Films', 'Extreme Emotions'], 'Release Year': 2023.0, 'Rent': ['Apple TV', 'Amazon Video', 'Google Play Movies', 'YouTube', 'Vudu', 'Spectrum On Demand'], 'Runtime (minutes)': 105.0, 'Stream': [''], 'Title': 'The Zone of Interest', 'Website': 'https://a24films.com/films/the-zone-of-interest'}),\n",
       "  Document(page_content='Overview: The true story of the inseparable Von Erich brothers, who made history in the intensely competitive world of professional wrestling in the early 1980s. Through tragedy and triumph, under the shadow of their domineering father and coach, the brothers seek larger-than-life immortality on the biggest stage in sports.. Keywords: suicide, coma, sports, 1970s, texas, wrestling, brotherhood, biography, dallas texas, based on true story, family relationships, grief, tragedy, curse, family, death, mental illness, overbearing father, death of brother, 1980s, toxic masculinity, brothers, wwf, male mental health', metadata={'Actors': ['Stanley Simons', 'Jeremy Allen White', 'Harris Dickinson', 'Zac Efron', 'Holt McCallany'], 'Buy': ['Apple TV', 'Amazon Video', 'Google Play Movies', 'YouTube', 'Vudu', 'Microsoft Store'], 'Directors': ['Sean Durkin'], 'Genre': ['Drama', 'History'], 'Language': 'English', 'Production Companies': ['A24', 'BBC Film', 'Access Entertainment', 'House Productions'], 'Release Year': 2023.0, 'Rent': ['Apple TV', 'Amazon Video', 'Google Play Movies', 'YouTube', 'Vudu', 'Spectrum On Demand'], 'Runtime (minutes)': 132.0, 'Stream': [''], 'Title': 'The Iron Claw', 'Website': 'https://ironclawmovie.com/'})],\n",
       " 'answer': 'I recommend the film [The Whale](https://a24films.com/films/the-whale):\\n- Runtime: 117 minutes\\n- Release Year: 2022\\n- \"The Whale\" is a poignant drama that delves into themes of redemption, regret, and family relationships, which align with your interest in drama films. The story of a reclusive English teacher seeking redemption and connection with his daughter may resonate with you based on the keywords provided in your query.\\n\\nI\\'m sorry, but I couldn\\'t find any other A24 drama films in the context provided. Would you like recommendations for drama films from other production companies or genres?'}"
      ]
     },
     "execution_count": 128,
     "metadata": {},
     "output_type": "execute_result"
    }
   ],
   "source": [
    "def format_docs(docs):\n",
    "    return \"\\n\\n\".join(f\"{doc.page_content}\\n\\nMetadata: {doc.metadata}\" for doc in docs)\n",
    "\n",
    "chat_model = ChatOpenAI(\n",
    "    model='gpt-3.5-turbo-0125',\n",
    "    # model='gpt-4-0125-preview',\n",
    "    temperature=0,\n",
    "    streaming=True,\n",
    ")\n",
    "\n",
    "prompt = ChatPromptTemplate.from_messages(\n",
    "    [\n",
    "        (\n",
    "            'system',\n",
    "            \"\"\"\n",
    "            Your goal is to recommend films to users based on their \n",
    "            query and the retrieved context. If a retrieved film doesn't seem \n",
    "            relevant, omit it from your response. Never refer to films that\n",
    "            are not in your context. If you cannot recommend any \n",
    "            films, suggest better queries to the user. You cannot \n",
    "            recommend more than five films. Your recommendation should \n",
    "            be relevant, original, and at least two to three sentences \n",
    "            long.\n",
    "            \n",
    "            YOU CANNOT RECOMMEND A FILM IF IT DOES NOT APPEAR IN YOUR \n",
    "            CONTEXT.\n",
    "\n",
    "            # TEMPLATE FOR OUTPUT\n",
    "            - [Title of Film](source link):\n",
    "                - Runtime:\n",
    "                - Release Year:\n",
    "                - (Your reasoning for recommending this film)\n",
    "            \n",
    "            Question: {question} \n",
    "            Context: {context} \n",
    "            \"\"\"\n",
    "        ),\n",
    "    ]\n",
    ")\n",
    "\n",
    "# Create a chatbot Question & Answer chain from the retriever\n",
    "rag_chain_from_docs = (\n",
    "    RunnablePassthrough.assign(context=(lambda x: format_docs(x[\"context\"])))\n",
    "    | prompt\n",
    "    | chat_model\n",
    "    | StrOutputParser()\n",
    ")\n",
    "\n",
    "rag_chain_with_source = RunnableParallel(\n",
    "    {\"context\": retriever, \"question\": RunnablePassthrough()}\n",
    ").assign(answer=rag_chain_from_docs)\n",
    "\n",
    "\n",
    "query_constructor.invoke(\n",
    "    {\n",
    "        \"query\": question\n",
    "    }\n",
    ")\n",
    "# Only prints final answer\n",
    "# for chunk in rag_chain_with_source.stream(question):\n",
    "#     for key in chunk:\n",
    "#         if key == 'answer':\n",
    "#             print(chunk[key], end=\"\", flush=True)\n",
    "\n",
    "# Prints everything\n",
    "output = {}\n",
    "curr_key = None\n",
    "for chunk in rag_chain_with_source.stream(question):\n",
    "    for key in chunk:\n",
    "        if key not in output:\n",
    "            output[key] = chunk[key]\n",
    "        else:\n",
    "            output[key] += chunk[key]\n",
    "        if key != curr_key:\n",
    "            print(f\"\\n\\n{key}: {chunk[key]}\", end=\"\", flush=True)\n",
    "        else:\n",
    "            print(chunk[key], end=\"\", flush=True)\n",
    "        curr_key = key\n",
    "output"
   ]
  },
  {
   "cell_type": "code",
   "execution_count": null,
   "metadata": {},
   "outputs": [],
   "source": []
  }
 ],
 "metadata": {
  "kernelspec": {
   "display_name": "FilmBot",
   "language": "python",
   "name": "python3"
  },
  "language_info": {
   "codemirror_mode": {
    "name": "ipython",
    "version": 3
   },
   "file_extension": ".py",
   "mimetype": "text/x-python",
   "name": "python",
   "nbconvert_exporter": "python",
   "pygments_lexer": "ipython3",
   "version": "3.12.2"
  }
 },
 "nbformat": 4,
 "nbformat_minor": 2
}
